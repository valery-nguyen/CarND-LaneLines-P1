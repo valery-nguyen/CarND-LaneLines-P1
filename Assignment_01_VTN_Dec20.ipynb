{
 "cells": [
  {
   "cell_type": "code",
   "execution_count": 1,
   "metadata": {
    "collapsed": true
   },
   "outputs": [],
   "source": [
    "import matplotlib.pyplot as plt\n",
    "import matplotlib.image as mpimg\n",
    "import numpy as np\n",
    "import cv2\n",
    "%matplotlib inline\n",
    "import os\n",
    "from statistics import median\n",
    "from moviepy.editor import VideoFileClip\n",
    "from IPython.display import HTML\n",
    "import math\n",
    "import time\n",
    "from operator import itemgetter"
   ]
  },
  {
   "cell_type": "code",
   "execution_count": null,
   "metadata": {
    "collapsed": false
   },
   "outputs": [],
   "source": [
    "def grayscale(img):\n",
    "    return cv2.cvtColor(img, cv2.COLOR_BGR2GRAY)\n",
    "    \n",
    "def canny_auto_threshold(img,sigma=0.3):\n",
    "    # median gray channel intensity\n",
    "    x_center = img.shape[1]/2\n",
    "\n",
    "    crop_y_t = 0.70*img.shape[0]\n",
    "    crop_y_l = 0.83*img.shape[0]\n",
    "    crop_x_r = x_center+0.28*img.shape[1]\n",
    "    crop_x_l = x_center-0.28*img.shape[1]\n",
    "\n",
    "    crop_img = img[crop_y_t:crop_y_l,crop_x_l:crop_x_r]\n",
    "    \n",
    "    # calculate low and high threshold\n",
    "    high_threshold = min(255, crop_img.max())   \n",
    "    low_threshold = high_threshold/2\n",
    "    \n",
    "    return (low_threshold, high_threshold)\n",
    "    \n",
    "def canny(img, low_threshold, high_threshold):\n",
    "    return cv2.Canny(img, low_threshold, high_threshold)\n",
    "\n",
    "def gaussian_blur(img, kernel_size):\n",
    "    return cv2.GaussianBlur(img, (kernel_size, kernel_size), 0)\n",
    "\n",
    "def region_of_interest(img, vertices):\n",
    "    \n",
    "    y_size = img.shape[0]\n",
    "    x_size = img.shape[1]\n",
    "    \n",
    "    #defining a blank mask to start with\n",
    "    mask = np.zeros_like(img)   \n",
    "    \n",
    "    #defining a 3 channel or 1 channel color to fill the mask with depending on the input image\n",
    "    if len(img.shape) > 2:\n",
    "        channel_count = img.shape[2]  # i.e. 3 or 4 depending on your image\n",
    "        ignore_mask_color = (255,) * channel_count\n",
    "    else:\n",
    "        ignore_mask_color = 255\n",
    "        \n",
    "    #filling pixels inside the polygon defined by \"vertices\" with the fill color    \n",
    "    cv2.fillPoly(mask, vertices, ignore_mask_color)\n",
    "    \n",
    "    #returning the image only where mask pixels are nonzero\n",
    "    masked_image = cv2.bitwise_and(img, mask)\n",
    "    return masked_image\n",
    "\n",
    "def draw_lines(img, lines, previous_right_left_lanes,color=[255, 0, 0], thickness=10):\n",
    "    #array initialization\n",
    "    rt_lane_slopes = []\n",
    "    lf_lane_slopes = []\n",
    "    \n",
    "    #var initialization\n",
    "    rt_lines_pos = []\n",
    "    lf_lines_pos = []\n",
    "    \n",
    "    for line in lines:\n",
    "        for x1,y1,x2,y2 in line: \n",
    "            pi = np.pi\n",
    "            m = ((y2-y1)/(x2-x1))\n",
    "            m_angle = np.arctan(m)\n",
    "            x_center = img.shape[1]/2\n",
    "            \n",
    "            rt_lw_x=previous_right_left_lanes[0][0]\n",
    "            (rt_top_x,rt_top_y)=(previous_right_left_lanes[1][0],previous_right_left_lanes[1][1])\n",
    "            lf_lw_x=previous_right_left_lanes[2][0]\n",
    "            (lf_top_x,lf_top_y)=(previous_right_left_lanes[3][0],previous_right_left_lanes[3][1])\n",
    "            \n",
    "            if not ((rt_top_x-rt_lw_x) == 0):\n",
    "                prev_r_slope = ((rt_top_y-img.shape[0])/(rt_top_x-rt_lw_x))\n",
    "                r_lane_variation = abs(prev_r_slope-m)\n",
    "            else:\n",
    "                r_lane_variation = 0\n",
    "                \n",
    "            if not ((lf_top_x-lf_lw_x) == 0):\n",
    "                prev_l_slope = ((lf_top_y-img.shape[0])/(lf_top_x-lf_lw_x))\n",
    "                l_lane_variation = abs(prev_l_slope-m)\n",
    "            else:\n",
    "                l_lane_variation = 0\n",
    "            \n",
    "            #right lane\n",
    "            if m > 0.55 and m < 0.75 and r_lane_variation < 0.1 and x1>(x_center+50):\n",
    "                #append slope values\n",
    "                rt_lane_slopes.append(m)\n",
    "                #append line positions\n",
    "                rt_lines_pos.append((x1,y1))\n",
    "                \n",
    "            elif m < -0.60 and m > -0.80 and l_lane_variation < 0.1 and x2<(x_center-50):\n",
    "                #append slope values\n",
    "                lf_lane_slopes.append(m)\n",
    "                #append line positions\n",
    "                lf_lines_pos.append((x2,y2)) \n",
    "                         \n",
    "    \n",
    "    #drawing right lane\n",
    "    if not rt_lines_pos:\n",
    "        cv2.line(img,previous_right_left_lanes[0],previous_right_left_lanes[1], color, thickness)\n",
    "    \n",
    "    else:\n",
    "        #average slopes\n",
    "        rt_slope_avg = median(rt_lane_slopes)\n",
    "    \n",
    "        #determine right lane position\n",
    "        rt_lines_pos = sorted(rt_lines_pos, key=itemgetter(0))\n",
    "        rt_lane_pos = rt_lines_pos[int(math.floor(len(rt_lines_pos)/2))]\n",
    "        rt_top = rt_lines_pos[0]\n",
    "    \n",
    "        #set x/y position for right lane upper end\n",
    "        rt_top_x = rt_top[0]\n",
    "        rt_top_y = rt_top[1]\n",
    "    \n",
    "        rt_lw_y = img.shape[0]\n",
    "    \n",
    "        #calculate x position for right lane lower end\n",
    "        rt_lw_x = int(math.floor(((rt_lw_y - rt_top_y) / rt_slope_avg + rt_top_x)))\n",
    "    \n",
    "        cv2.line(img, (rt_lw_x, img.shape[0]), (rt_top_x, rt_top_y), color, thickness)\n",
    "        previous_right_left_lanes[0] = (rt_lw_x, img.shape[0])\n",
    "        previous_right_left_lanes[1] = (rt_top_x, rt_top_y)\n",
    "    \n",
    "    #-----------------\n",
    "    \n",
    "    #drawing left lane\n",
    "    if not lf_lines_pos:\n",
    "        cv2.line(img,previous_right_left_lanes[2],previous_right_left_lanes[3], color, thickness)\n",
    "        return  \n",
    "    \n",
    "    else:\n",
    "        #average slopes\n",
    "        lf_slope_avg = median(lf_lane_slopes)  \n",
    "\n",
    "        #determine left lane position\n",
    "        lf_lines_pos = sorted(lf_lines_pos, key=itemgetter(0))    \n",
    "        lf_lane_pos = lf_lines_pos[int(math.floor(len(lf_lines_pos)/2))]\n",
    "        lf_top = lf_lines_pos[int(len(lf_lines_pos)-1)]\n",
    "    \n",
    "        #set x/y position for left lane upper end\n",
    "        lf_top_x = lf_top[0]\n",
    "        lf_top_y = lf_top[1]\n",
    " \n",
    "        lf_lw_y = img.shape[0]\n",
    "    \n",
    "        #calculate x position for left lane lower end\n",
    "        lf_lw_x = int(math.floor((lf_lw_y - lf_top_y) / lf_slope_avg + lf_top_x))\n",
    "    \n",
    "        cv2.line(img, (lf_lw_x, img.shape[0]), (lf_top_x, lf_top_y), color, thickness)  \n",
    "        previous_right_left_lanes[2] = (lf_lw_x, img.shape[0])\n",
    "        previous_right_left_lanes[3] = (lf_top_x, lf_top_y)\n",
    "        \n",
    "        return previous_right_left_lanes\n",
    "\n",
    "def hough_lines(img, rho, theta, threshold, min_line_len, max_line_gap,previous_right_left_lanes):\n",
    "    lines = cv2.HoughLinesP(img, rho, theta, threshold, np.array([]), minLineLength=min_line_len, maxLineGap=max_line_gap)\n",
    "    line_img = np.zeros((*img.shape, 3), dtype=np.uint8)\n",
    "    previous_right_left_lanes = draw_lines(line_img, lines, previous_right_left_lanes)\n",
    "    return line_img\n",
    "\n",
    "def weighted_img(img, initial_img, α=0.8, β=1., λ=0.):\n",
    "    return cv2.addWeighted(initial_img, α, img, β, λ)\n",
    "\n",
    "def clahe_auto_params(img):\n",
    "    #set tileGridSize\n",
    "    tileGridSize = (8,8)\n",
    "    \n",
    "    # median gray channel intensity\n",
    "    x_center = img.shape[1]/2\n",
    "\n",
    "    crop_y_t = 0.70*img.shape[0]\n",
    "    crop_y_l = 0.83*img.shape[0]\n",
    "    crop_x_r = x_center+0.28*img.shape[1]\n",
    "    crop_x_l = x_center-0.28*img.shape[1]\n",
    "\n",
    "    crop_img = img[crop_y_t:crop_y_l,crop_x_l:crop_x_r]\n",
    "    \n",
    "    if  crop_img.mean() > 150:  \n",
    "        clipLimit = 3\n",
    "    elif crop_img.mean() > 140:  \n",
    "        clipLimit = 2\n",
    "    elif crop_img.mean() > 90:\n",
    "        clipLimit = 1    \n",
    "    elif crop_img.mean() > 70:\n",
    "        clipLimit = 0.12        \n",
    "    else:\n",
    "        clipLimit = 0.06  \n",
    "        \n",
    "    return (clipLimit, tileGridSize)    \n",
    "\n",
    "def CLAHE_img(img,clipLimit, tileGridSize):\n",
    "    clahe = cv2.createCLAHE(clipLimit, tileGridSize)\n",
    "    return clahe.apply(img)"
   ]
  },
  {
   "cell_type": "code",
   "execution_count": null,
   "metadata": {
    "collapsed": false
   },
   "outputs": [],
   "source": [
    "def process_image(image):\n",
    "    image_grayed = grayscale(image)\n",
    "    clahe_params = clahe_auto_params(image_grayed)\n",
    "    image_clahe = CLAHE_img(image_grayed,clahe_params[0],clahe_params[1])\n",
    "    canny_threshold = canny_auto_threshold(image_clahe)\n",
    "    image_canny = canny(image_clahe,canny_threshold[0],canny_threshold[1])\n",
    "    kernel_size = 3\n",
    "    image_gauss = gaussian_blur(image_canny,kernel_size)\n",
    "    \n",
    "    if previous_right_left_lanes != [(0,0),(0,0),(0,0),(0,0)]:\n",
    "        roi_x_thres = 100\n",
    "        roi_y_thres = 100\n",
    "        top_left_v = (max(0,previous_right_left_lanes[3][0]-roi_x_thres),max(0,previous_right_left_lanes[3][1]-roi_y_thres))\n",
    "        low_left_v = (max(0,previous_right_left_lanes[2][0]-roi_x_thres),min(image.shape[0],previous_right_left_lanes[2][1]+roi_y_thres))\n",
    "        top_right_v = (min(image.shape[1],previous_right_left_lanes[0][0]+roi_x_thres),max(0,previous_right_left_lanes[0][1]-roi_y_thres))\n",
    "        low_right_v = (min(image.shape[1],previous_right_left_lanes[1][0]+roi_x_thres),min(image.shape[0],previous_right_left_lanes[1][1]+roi_y_thres))\n",
    "    else:\n",
    "        top_left_v = (0,0)\n",
    "        low_left_v = (0,image.shape[0])\n",
    "        top_right_v = (image.shape[1],0)\n",
    "        low_right_v = (image.shape[1],image.shape[0])\n",
    "    \n",
    "    vertices = np.array([[top_left_v,low_left_v,low_right_v,top_right_v]],dtype=np.int32)\n",
    "    image_mask = region_of_interest(image_gauss,vertices)\n",
    "    lines_hough = hough_lines(image_mask,0.5, np.pi/180, 40, 4, 4,previous_right_left_lanes)\n",
    "    image_final = weighted_img(lines_hough,image)\n",
    "    plt.imshow(image_final)\n",
    "        \n",
    "    return image_final"
   ]
  },
  {
   "cell_type": "code",
   "execution_count": null,
   "metadata": {
    "collapsed": false,
    "scrolled": true
   },
   "outputs": [],
   "source": [
    "#initialization before running notebook\n",
    "previous_right_left_lanes = [(0,0),(0,0),(0,0),(0,0)]\n",
    "\n",
    "challenge_output = 'extra.mp4'\n",
    "clip2 = VideoFileClip('challenge.mp4')\n",
    "challenge_clip = clip2.fl_image(process_image)\n",
    "%time challenge_clip.write_videofile(challenge_output, audio=False)"
   ]
  },
  {
   "cell_type": "code",
   "execution_count": null,
   "metadata": {
    "collapsed": false,
    "scrolled": false
   },
   "outputs": [],
   "source": [
    "HTML(\"\"\"\n",
    "<video width=\"960\" height=\"540\" controls>\n",
    "  <source src=\"{0}\">\n",
    "</video>\n",
    "\"\"\".format(challenge_output))"
   ]
  },
  {
   "cell_type": "code",
   "execution_count": null,
   "metadata": {
    "collapsed": false
   },
   "outputs": [],
   "source": [
    "#list image files\n",
    "os.listdir(\"test_images/\")"
   ]
  },
  {
   "cell_type": "code",
   "execution_count": null,
   "metadata": {
    "collapsed": false
   },
   "outputs": [],
   "source": [
    "#initialization before running notebook\n",
    "previous_right_left_lanes = [(0,0),(0,0),(0,0),(0,0)]\n",
    "\n",
    "#reading in an image\n",
    "image_filename = 'whiteCarLaneSwitch'\n",
    "image_directory = 'test_images/'\n",
    "image_source = image_directory + image_filename + '.jpg'\n",
    "image = mpimg.imread(image_source)\n",
    "\n",
    "#printing out some stats and plotting\n",
    "print('This image is:', type(image), 'with dimesions:', image.shape)\n",
    "plt.imshow(image)"
   ]
  },
  {
   "cell_type": "code",
   "execution_count": null,
   "metadata": {
    "collapsed": false
   },
   "outputs": [],
   "source": [
    "#reduce colored image to grayscaled image\n",
    "image_grayed = grayscale(image)\n",
    "plt.imshow(image_grayed, cmap='gray')"
   ]
  },
  {
   "cell_type": "code",
   "execution_count": null,
   "metadata": {
    "collapsed": false
   },
   "outputs": [],
   "source": [
    "#apply CLAHE\n",
    "clahe_params = clahe_auto_params(image_grayed)\n",
    "image_clahe = CLAHE_img(image_grayed,clahe_params[0],clahe_params[1])\n",
    "plt.imshow(image_clahe, cmap='gray')"
   ]
  },
  {
   "cell_type": "code",
   "execution_count": null,
   "metadata": {
    "collapsed": false
   },
   "outputs": [],
   "source": [
    "#apply canny to grayscaled image\n",
    "canny_threshold = canny_auto_threshold(image_clahe)\n",
    "image_canny = canny(image_clahe,canny_threshold[0],canny_threshold[1])\n",
    "plt.imshow(image_canny, cmap='gray')"
   ]
  },
  {
   "cell_type": "code",
   "execution_count": null,
   "metadata": {
    "collapsed": false
   },
   "outputs": [],
   "source": [
    "#apply gaussian blur to image\n",
    "kernel_size = 3\n",
    "image_gauss = gaussian_blur(image_canny,kernel_size)\n",
    "plt.imshow(image_gauss)"
   ]
  },
  {
   "cell_type": "code",
   "execution_count": null,
   "metadata": {
    "collapsed": false
   },
   "outputs": [],
   "source": [
    "#pick area of interest\n",
    "if not (previous_right_left_lanes == [(0,0),(0,0),(0,0),(0,0)]):\n",
    "    print(\"top\",previous_right_left_lanes)\n",
    "    roi_thres = 10\n",
    "    #top_left_v = (max(0,previous_right_left_lanes[3][0]-roi_thres),max(0,previous_right_left_lanes[3][1]-roi_thres))\n",
    "    #low_left_v = (max(0,previous_right_left_lanes[2][0]-roi_thres),min(image.shape[0],previous_right_left_lanes[2][1]+roi_thres))\n",
    "    #top_right_v = (min(image.shape[1],previous_right_left_lanes[0][0]+roi_thres),max(0,previous_right_left_lanes[0][1]-roi_thres))\n",
    "    #low_right_v = (min(image.shape[1],previous_right_left_lanes[1][0]+roi_thres),min(image.shape[0],previous_right_left_lanes[1][1]+roi_thres))\n",
    "    top_left_v = (max(0,previous_right_left_lanes[1][0]-roi_thres),max(0,previous_right_left_lanes[1][1]-roi_thres))\n",
    "    low_left_v = (max(0,previous_right_left_lanes[0][0]-roi_thres),min(image.shape[0],previous_right_left_lanes[0][1]+roi_thres))\n",
    "    top_right_v = (min(image.shape[1],previous_right_left_lanes[3][0]+roi_thres),max(0,previous_right_left_lanes[3][1]-roi_thres))\n",
    "    low_right_v = (min(image.shape[1],previous_right_left_lanes[2][0]+roi_thres),min(image.shape[0],previous_right_left_lanes[2][1]+roi_thres))\n",
    "\n",
    "else:\n",
    "    top_left_v = (0,0)\n",
    "    low_left_v = (0,image.shape[0])\n",
    "    top_right_v = (image.shape[1],0)\n",
    "    low_right_v = (image.shape[1],image.shape[0])\n",
    "    \n",
    "vertices = np.array([[top_left_v,low_left_v,low_right_v,top_right_v]],dtype=np.int32)\n",
    "image_mask = region_of_interest(image_gauss,vertices)\n",
    "plt.imshow(image_mask)"
   ]
  },
  {
   "cell_type": "code",
   "execution_count": null,
   "metadata": {
    "collapsed": false,
    "scrolled": true
   },
   "outputs": [],
   "source": [
    "#determine hough lines\n",
    "lines_hough = hough_lines(image_mask,0.5, np.pi/180, 40, 4, 4,previous_right_left_lanes)\n",
    "vertices = np.array([[previous_right_left_lanes[3],previous_right_left_lanes[2],previous_right_left_lanes[0],previous_right_left_lanes[1]]],dtype=np.int32)  \n",
    "plt.imshow(lines_hough)"
   ]
  },
  {
   "cell_type": "code",
   "execution_count": null,
   "metadata": {
    "collapsed": false,
    "scrolled": false
   },
   "outputs": [],
   "source": [
    "#Add weighed lines onto initial image\n",
    "image_final = weighted_img(lines_hough,image)\n",
    "plt.imshow(image_final)\n",
    "cv2.imwrite(image_directory + image_filename + '_final.jpg', cv2.cvtColor(image_final, cv2.COLOR_RGB2BGR))"
   ]
  },
  {
   "cell_type": "code",
   "execution_count": null,
   "metadata": {
    "collapsed": true
   },
   "outputs": [],
   "source": [
    "import numpy.polynomial.polynomial as poly\n",
    "\n",
    "coefficients = poly.polyfit(x, y, 1) \n",
    "ffit = poly.polyval(x_new, coefs)\n",
    "plt.plot(x_new, ffit)"
   ]
  },
  {
   "cell_type": "code",
   "execution_count": null,
   "metadata": {
    "collapsed": true
   },
   "outputs": [],
   "source": [
    "#Reflection after Project 1:\n",
    "#First of all, to make is more robust, I believe that tweaking and fine tuning the parameters, \n",
    "#including gaussian blur’s kernel size, the region of interest’s vertices, and the hough’s parameters \n",
    "#would improve detection of the lines on the road, and smoothen the left and right lanes obtained.\n",
    "#Moreover, using HSV instead of grayscale may help read the yellow lane, as grayscale decreases the contrast \n",
    "#between the yellow lane and rest of the road. \n",
    "#Finally, to obtain a video such as P1_example, I may need to define left and right lanes with constant length \n",
    "#that I could fit over my lane data. \n",
    "#\n",
    "#It is likely to fail where there is several dirt markings on the road, parallel to the yellow/white lanes. \n",
    "#Using grayscale or HSV images may not work correctly in this case. Eventually, the algorithm may not \n",
    "#distinguish correctly which are the correct driving lanes."
   ]
  }
 ],
 "metadata": {
  "anaconda-cloud": {},
  "kernelspec": {
   "display_name": "Python [conda env:python3]",
   "language": "python",
   "name": "conda-env-python3-py"
  },
  "language_info": {
   "codemirror_mode": {
    "name": "ipython",
    "version": 3
   },
   "file_extension": ".py",
   "mimetype": "text/x-python",
   "name": "python",
   "nbconvert_exporter": "python",
   "pygments_lexer": "ipython3",
   "version": "3.5.2"
  }
 },
 "nbformat": 4,
 "nbformat_minor": 1
}
